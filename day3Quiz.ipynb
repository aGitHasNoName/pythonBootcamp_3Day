{
 "cells": [
  {
   "cell_type": "markdown",
   "metadata": {},
   "source": [
    "# Wednesday Quiz"
   ]
  },
  {
   "cell_type": "markdown",
   "metadata": {},
   "source": [
    "#### *If you are using Google Colab ONLY, run this line:*"
   ]
  },
  {
   "cell_type": "code",
   "execution_count": null,
   "metadata": {},
   "outputs": [],
   "source": [
    "!wget https://raw.githubusercontent.com/aGitHasNoName/pythonBootcamp_3Day/main/DNAresults.csv\n",
    "!wget https://raw.githubusercontent.com/aGitHasNoName/pythonBootcamp_3Day/main/class_grades.txt\n",
    "!wget https://raw.githubusercontent.com/aGitHasNoName/pythonBootcamp_3Day/main/alice.txt"
   ]
  },
  {
   "cell_type": "markdown",
   "metadata": {},
   "source": [
    "1. Correct the errors in this code. It's ok to run the code first to see the error message:"
   ]
  },
  {
   "cell_type": "code",
   "execution_count": null,
   "metadata": {},
   "outputs": [],
   "source": [
    "tiny_toons = {\"Elmyra Duff\" = \"Human\", \"Hamton J. Pig\" = \"Pig\", \n",
    "              \"Babs Bunny\" = \"Rabbit\", \"Buster Bunny\" = \"Rabbit\", \n",
    "              \"Plucky Duck\" = \"Duck\", \"Montana Max\" = \"Human\", \n",
    "              \"Fifi La Fume\" = \"Skunk\"}"
   ]
  },
  {
   "cell_type": "markdown",
   "metadata": {},
   "source": [
    "2. Correct the errors in this code. It's ok to run the code first to see the error message:"
   ]
  },
  {
   "cell_type": "code",
   "execution_count": null,
   "metadata": {},
   "outputs": [],
   "source": [
    "with open(alice.txt, \"r\") as f\n",
    "    print(f.readlines()[0])"
   ]
  },
  {
   "cell_type": "markdown",
   "metadata": {},
   "source": [
    "3. Correct the errors in this code. It's ok to run the code first to see the error message:"
   ]
  },
  {
   "cell_type": "code",
   "execution_count": null,
   "metadata": {},
   "outputs": [],
   "source": [
    "define milesToNaut(miles):\n",
    "    naut = round(miles * 0.868976, 2)\n",
    "return naut\n",
    "milesToNaut(30)"
   ]
  },
  {
   "cell_type": "markdown",
   "metadata": {},
   "source": [
    "4. Make an empty list called `class_list`. Write code to open the file \"class_grades.txt\" and append each line to the `class_list` list with the new line characters removed from the ends of the lines:"
   ]
  },
  {
   "cell_type": "code",
   "execution_count": null,
   "metadata": {},
   "outputs": [],
   "source": []
  },
  {
   "cell_type": "code",
   "execution_count": null,
   "metadata": {},
   "outputs": [],
   "source": []
  },
  {
   "cell_type": "code",
   "execution_count": null,
   "metadata": {},
   "outputs": [],
   "source": [
    "print(class_list)"
   ]
  },
  {
   "cell_type": "markdown",
   "metadata": {},
   "source": [
    "5. I've written code below to show you what the file `DNAresults.csv` looks like. Decide how you would like to store this data - as a list of lists, a dictionary, a list of dictionaries, or a dictionary of dictionaries. Write down the steps you will need to do to transform the data into your structure of choice, and then try to write the code."
   ]
  },
  {
   "cell_type": "code",
   "execution_count": null,
   "metadata": {},
   "outputs": [],
   "source": [
    "dna_file = \"DNAresults.csv\"\n",
    "with open(dna_file, \"r\") as f:\n",
    "    for line in f.readlines():\n",
    "        print(line)"
   ]
  },
  {
   "cell_type": "code",
   "execution_count": null,
   "metadata": {},
   "outputs": [],
   "source": []
  },
  {
   "cell_type": "code",
   "execution_count": null,
   "metadata": {},
   "outputs": [],
   "source": []
  },
  {
   "cell_type": "code",
   "execution_count": null,
   "metadata": {},
   "outputs": [],
   "source": []
  },
  {
   "cell_type": "code",
   "execution_count": null,
   "metadata": {},
   "outputs": [],
   "source": []
  },
  {
   "cell_type": "code",
   "execution_count": null,
   "metadata": {},
   "outputs": [],
   "source": []
  },
  {
   "cell_type": "code",
   "execution_count": null,
   "metadata": {},
   "outputs": [],
   "source": []
  }
 ],
 "metadata": {
  "kernelspec": {
   "display_name": "Python 3",
   "language": "python",
   "name": "python3"
  },
  "language_info": {
   "codemirror_mode": {
    "name": "ipython",
    "version": 3
   },
   "file_extension": ".py",
   "mimetype": "text/x-python",
   "name": "python",
   "nbconvert_exporter": "python",
   "pygments_lexer": "ipython3",
   "version": "3.8.2"
  }
 },
 "nbformat": 4,
 "nbformat_minor": 4
}
