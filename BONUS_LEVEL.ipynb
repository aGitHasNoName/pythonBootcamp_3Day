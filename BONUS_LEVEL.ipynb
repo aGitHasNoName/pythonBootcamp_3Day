{
 "cells": [
  {
   "cell_type": "markdown",
   "metadata": {},
   "source": [
    "# <span style=\"color:purple\">Python Fundamentals Bootcamp - BONUS LEVEL</span>"
   ]
  },
  {
   "cell_type": "markdown",
   "metadata": {},
   "source": [
    "#### <br>BONUS OBJECTS\n",
    "- tuples\n",
    "- sets\n",
    "- ranges\n",
    "\n",
    "#### <br>CHEATCODE\n",
    "- fstrings\n",
    "\n",
    "#### <br>LEVEL UP\n",
    "- scripts\n",
    "\n",
    "#### <br>FINAL BOSS\n",
    "- bonus project"
   ]
  },
  {
   "cell_type": "markdown",
   "metadata": {},
   "source": [
    "## <br><span style=\"color:teal\">tuples"
   ]
  },
  {
   "cell_type": "markdown",
   "metadata": {},
   "source": [
    "You are already familiar with tuples! You just didn't know they were called that. A tuple follows every function call:"
   ]
  },
  {
   "cell_type": "code",
   "execution_count": null,
   "metadata": {},
   "outputs": [],
   "source": [
    "round(489289, -3)"
   ]
  },
  {
   "cell_type": "markdown",
   "metadata": {},
   "source": [
    "<br>(489289, -3) is a tuple."
   ]
  },
  {
   "cell_type": "markdown",
   "metadata": {},
   "source": [
    "<br>A tuple is another Python **iterator**, like a list. An iterator is a collection of items kept in order that can be looped through.\n",
    "<br><br>A tuple is the same as a list, but it is **immutable**."
   ]
  },
  {
   "cell_type": "markdown",
   "metadata": {},
   "source": [
    "<br><br>Tuples are usually designated by parentheses:"
   ]
  },
  {
   "cell_type": "code",
   "execution_count": null,
   "metadata": {},
   "outputs": [],
   "source": [
    "my_tuple = (4, 8, 10)\n",
    "type(my_tuple)"
   ]
  },
  {
   "cell_type": "markdown",
   "metadata": {},
   "source": [
    "but, they are technically designated just by having objects separated by commas:"
   ]
  },
  {
   "cell_type": "code",
   "execution_count": null,
   "metadata": {},
   "outputs": [],
   "source": [
    "dog_tuple = \"beagle\", \"boxer\", \"border collie\"\n",
    "type(dog_tuple)"
   ]
  },
  {
   "cell_type": "markdown",
   "metadata": {},
   "source": [
    "<br>To make an empty tuple, you have to use parentheses:"
   ]
  },
  {
   "cell_type": "code",
   "execution_count": null,
   "metadata": {},
   "outputs": [],
   "source": [
    "empty_t = ()\n",
    "type(empty_t)"
   ]
  },
  {
   "cell_type": "markdown",
   "metadata": {},
   "source": [
    "<br>You can loop through a tuple:"
   ]
  },
  {
   "cell_type": "code",
   "execution_count": null,
   "metadata": {},
   "outputs": [],
   "source": [
    "for dog in dog_tuple:\n",
    "    print(dog)"
   ]
  },
  {
   "cell_type": "markdown",
   "metadata": {},
   "source": [
    "<br><br>Regular functions will work on tuples:"
   ]
  },
  {
   "cell_type": "code",
   "execution_count": null,
   "metadata": {},
   "outputs": [],
   "source": [
    "sum((6, 7, 8))"
   ]
  },
  {
   "cell_type": "code",
   "execution_count": null,
   "metadata": {},
   "outputs": [],
   "source": [
    "len(dog_tuple)"
   ]
  },
  {
   "cell_type": "markdown",
   "metadata": {},
   "source": [
    "<br>List methods do not work with tuples:"
   ]
  },
  {
   "cell_type": "code",
   "execution_count": null,
   "metadata": {},
   "outputs": [],
   "source": [
    "for dog in dog_tuple:\n",
    "    if \"collie\" in dog:\n",
    "        empty_t.append()"
   ]
  },
  {
   "cell_type": "markdown",
   "metadata": {},
   "source": [
    "<br>In fact, tuples don't have methods! Tuples are mostly used behind the scenes in Python, but occasionally you will see one returned to you from a function, so it's good to recognize them."
   ]
  },
  {
   "cell_type": "markdown",
   "metadata": {},
   "source": [
    "<br>The function for calculating a T-test for the means of two independent samples returns a fancy tuple with two items. It is found in the **scipy** module."
   ]
  },
  {
   "cell_type": "code",
   "execution_count": null,
   "metadata": {},
   "outputs": [],
   "source": [
    "from scipy.stats import ttest_ind"
   ]
  },
  {
   "cell_type": "code",
   "execution_count": null,
   "metadata": {},
   "outputs": [],
   "source": [
    "list_a = [7, 4, 3, 9, 8, 29, 8, 17]\n",
    "list_b = [8, 10, 14, 28, 26, 18, 17, 17]\n",
    "answer = ttest_ind(list_a, list_b)"
   ]
  },
  {
   "cell_type": "code",
   "execution_count": null,
   "metadata": {},
   "outputs": [],
   "source": [
    "print(answer)"
   ]
  },
  {
   "cell_type": "markdown",
   "metadata": {},
   "source": [
    "<br>You can index a tuple to get the info you need:"
   ]
  },
  {
   "cell_type": "code",
   "execution_count": null,
   "metadata": {},
   "outputs": [],
   "source": [
    "stat = answer[0]\n",
    "p_value = answer[1]\n",
    "print(stat)\n",
    "print(p_value)         "
   ]
  },
  {
   "cell_type": "markdown",
   "metadata": {},
   "source": [
    "<br>**You can always change a tuple to a list to make it easier to work with**:"
   ]
  },
  {
   "cell_type": "code",
   "execution_count": null,
   "metadata": {
    "tags": []
   },
   "outputs": [],
   "source": [
    "answer_list = list(answer)\n",
    "print(answer_list)"
   ]
  },
  {
   "cell_type": "markdown",
   "metadata": {},
   "source": [
    "## <br><br><span style=\"color:teal\">sets"
   ]
  },
  {
   "cell_type": "markdown",
   "metadata": {},
   "source": [
    "**Sets are like unordered lists with no duplicate values.**"
   ]
  },
  {
   "cell_type": "markdown",
   "metadata": {},
   "source": [
    "They are great for removing duplicates from lists:"
   ]
  },
  {
   "cell_type": "code",
   "execution_count": null,
   "metadata": {},
   "outputs": [],
   "source": [
    "num_list = [4, 4, 4, 4, 4, 4, 10]\n",
    "num_set = set(num_list)\n",
    "print(num_set)"
   ]
  },
  {
   "cell_type": "markdown",
   "metadata": {},
   "source": [
    "You can change them back to lists in the same line of code to quickly remove duplicates from a list:"
   ]
  },
  {
   "cell_type": "code",
   "execution_count": null,
   "metadata": {},
   "outputs": [],
   "source": [
    "num_list = [4, 4, 4, 4, 4, 4, 10]\n",
    "num_list = list(set(num_list))\n",
    "print(num_list)"
   ]
  },
  {
   "cell_type": "markdown",
   "metadata": {},
   "source": [
    "<br>Sets are designated by curly brackets (Python knows it's not a dictionary if you don't include any colons inside), or just by using the set`()` function on a list:"
   ]
  },
  {
   "cell_type": "code",
   "execution_count": null,
   "metadata": {},
   "outputs": [],
   "source": [
    "s = {8, 9, 10, 9, 8}\n",
    "print(s)"
   ]
  },
  {
   "cell_type": "code",
   "execution_count": null,
   "metadata": {},
   "outputs": [],
   "source": [
    "s2 = set([8, 9, 10, 9, 8])\n",
    "print(s2)"
   ]
  },
  {
   "cell_type": "markdown",
   "metadata": {},
   "source": [
    "## <br><span style=\"color:red\">Exercise: sets"
   ]
  },
  {
   "cell_type": "markdown",
   "metadata": {},
   "source": [
    "Store the following list. This is a list of birds you observed from your window."
   ]
  },
  {
   "cell_type": "code",
   "execution_count": null,
   "metadata": {},
   "outputs": [],
   "source": [
    "bird_obs = [\"Mourning Dove\", \n",
    "            \"Red-winged Blackbird\", \n",
    "            \"Red-winged Blackbird\", \n",
    "            \"Red-winged Blackbird\", \n",
    "            \"Mourning Dove\", \n",
    "            \"Mourning Dove\", \n",
    "            \"Northern Cardinal\", \n",
    "            \"Mourning Dove\", \n",
    "            \"Song Sparrow\", \n",
    "            \"Song Sparrow\", \n",
    "            \"Song Sparrow\", \n",
    "            \"American Crow\",\n",
    "            \"American Robin\", \n",
    "            \"American Crow\",\n",
    "            \"Song Sparrow\", \n",
    "            \"Red-winged Blackbird\", \n",
    "            \"Mourning Dove\", \n",
    "            \"Red-winged Blackbird\", \n",
    "            \"Blue Jay\", \n",
    "            \"Red-winged Blackbird\", \n",
    "            \"Song Sparrow\", \n",
    "            \"Red-winged Blackbird\", \n",
    "            \"Mourning Dove\", \n",
    "            \"Red-winged Blackbird\", \n",
    "            \"European Starling\"]"
   ]
  },
  {
   "cell_type": "markdown",
   "metadata": {},
   "source": [
    "How many total birds did you observe? Write code to find the length of the `bird_obs` list:"
   ]
  },
  {
   "cell_type": "code",
   "execution_count": null,
   "metadata": {},
   "outputs": [],
   "source": []
  },
  {
   "cell_type": "markdown",
   "metadata": {},
   "source": [
    "How many different types of birds did you observe? Write code to turn the `bird_obs` list into a set, and then find the length of that set. Bonus if you can do it in one line of code:"
   ]
  },
  {
   "cell_type": "code",
   "execution_count": null,
   "metadata": {},
   "outputs": [],
   "source": []
  },
  {
   "cell_type": "markdown",
   "metadata": {},
   "source": [
    "Which different bird types did you see? Turn the `bird_obs` list into a set, and loop through it, printing out each bird type:"
   ]
  },
  {
   "cell_type": "code",
   "execution_count": null,
   "metadata": {},
   "outputs": [],
   "source": []
  },
  {
   "cell_type": "markdown",
   "metadata": {},
   "source": [
    "## <br><br><span style=\"color:teal\">ranges"
   ]
  },
  {
   "cell_type": "markdown",
   "metadata": {},
   "source": [
    "Another Python iterator! A range is created by the `range()` function. It is used to create a collection of integers in order so that you can loop through it."
   ]
  },
  {
   "cell_type": "markdown",
   "metadata": {},
   "source": [
    "The `range()` function takes 2 or 3 arguments: which integer to start with, which integer to end with, and how many integers to iterate by between numbers. If you do not provide the third argument, the range will iterate by 1."
   ]
  },
  {
   "cell_type": "markdown",
   "metadata": {},
   "source": [
    "<br>If you run the function alone, it will return the range object:"
   ]
  },
  {
   "cell_type": "code",
   "execution_count": null,
   "metadata": {},
   "outputs": [],
   "source": [
    "range(1, 10, 2)"
   ]
  },
  {
   "cell_type": "markdown",
   "metadata": {},
   "source": [
    "<br>This isn't very useful. But, if you loop through the range object, you can do something with each number:"
   ]
  },
  {
   "cell_type": "code",
   "execution_count": null,
   "metadata": {},
   "outputs": [],
   "source": [
    "for i in range(1, 10, 2):\n",
    "    print(i)"
   ]
  },
  {
   "cell_type": "markdown",
   "metadata": {},
   "source": [
    "<br>**You can also change the range object into a list to work with it**:"
   ]
  },
  {
   "cell_type": "code",
   "execution_count": null,
   "metadata": {},
   "outputs": [],
   "source": [
    "r = list(range(1, 10, 2))\n",
    "print(r)"
   ]
  },
  {
   "cell_type": "markdown",
   "metadata": {},
   "source": [
    "*Note: `range()` does not work with floats, only integers. To create a range of floats, you will need to import the module numpy.*"
   ]
  },
  {
   "cell_type": "markdown",
   "metadata": {},
   "source": [
    "<br>Like Python indexing, the stop position is **exclusive** of the number passed as the stop argument:"
   ]
  },
  {
   "cell_type": "code",
   "execution_count": null,
   "metadata": {},
   "outputs": [],
   "source": [
    "for i in range(1, 11):\n",
    "    print(i)"
   ]
  },
  {
   "cell_type": "markdown",
   "metadata": {},
   "source": [
    "## <br><span style=\"color:red\">Exercise: range"
   ]
  },
  {
   "cell_type": "markdown",
   "metadata": {},
   "source": [
    "Write a for loop to print every 20th number from 0 to 400."
   ]
  },
  {
   "cell_type": "code",
   "execution_count": null,
   "metadata": {},
   "outputs": [],
   "source": []
  },
  {
   "cell_type": "markdown",
   "metadata": {},
   "source": [
    "## <br><br><span style=\"color:teal\">fstrings"
   ]
  },
  {
   "cell_type": "markdown",
   "metadata": {},
   "source": [
    "We are going to cover how to **build strings out of variables and strings**. This is a very common task in Python."
   ]
  },
  {
   "cell_type": "markdown",
   "metadata": {},
   "source": [
    "#### Some examples:"
   ]
  },
  {
   "cell_type": "markdown",
   "metadata": {},
   "source": [
    "**Building filenames**"
   ]
  },
  {
   "cell_type": "code",
   "execution_count": null,
   "metadata": {},
   "outputs": [],
   "source": [
    "old_filename = \"myfile\"\n",
    "new_filename = old_filename + \"_ver2\"\n",
    "print(new_filename)"
   ]
  },
  {
   "cell_type": "markdown",
   "metadata": {},
   "source": [
    "**Reporting results**"
   ]
  },
  {
   "cell_type": "code",
   "execution_count": null,
   "metadata": {},
   "outputs": [],
   "source": [
    "size_list = [5.4, 8.4, 9.2, 4.7, 8.8]\n",
    "print(\"The mean size is \" + str(sum(size_list)/len(size_list)) + \".\")"
   ]
  },
  {
   "cell_type": "markdown",
   "metadata": {},
   "source": [
    "**Creating unique identifiers**"
   ]
  },
  {
   "cell_type": "code",
   "execution_count": null,
   "metadata": {},
   "outputs": [],
   "source": [
    "run_num = \"6\"\n",
    "condition = \"control\"\n",
    "date = \"010420\"\n",
    "ID = run_num + \"_\" + condition + \"_\" + date\n",
    "print(ID)"
   ]
  },
  {
   "cell_type": "markdown",
   "metadata": {},
   "source": [
    "<br><br>Over the years, Python has introduced several methods to make this a shorter process than using the `+` between the strings and variables. Each new method has made the process a little bit shorter, but also still had some common errors that were easy for people to make."
   ]
  },
  {
   "cell_type": "markdown",
   "metadata": {},
   "source": [
    "<br><br>The latest solution prevents these common user errors by moving the variable names into the string. These are called **fstrings**."
   ]
  },
  {
   "cell_type": "markdown",
   "metadata": {},
   "source": [
    "### <br>fstring syntax"
   ]
  },
  {
   "cell_type": "code",
   "execution_count": null,
   "metadata": {},
   "outputs": [],
   "source": [
    "old_filename = \"myFile\"\n",
    "version = 2\n",
    "new_filename = f\"{old_filename}_ver{version}\"\n",
    "print(new_filename)"
   ]
  },
  {
   "cell_type": "markdown",
   "metadata": {},
   "source": [
    "<br>fstrings begin with the letter `f` followed by the opening quotation mark. <br>You can use either a single or double quotation mark, just like with an ordinary string.\n",
    "<br>Do not put a space between `f` and the first `\"`."
   ]
  },
  {
   "cell_type": "markdown",
   "metadata": {},
   "source": [
    "<br> Variable names now go inside the the curly brackets inside the string."
   ]
  },
  {
   "cell_type": "markdown",
   "metadata": {},
   "source": [
    "The string ends with the closing quotation mark."
   ]
  },
  {
   "cell_type": "markdown",
   "metadata": {},
   "source": [
    "<br>Here's an example using single quotation marks:"
   ]
  },
  {
   "cell_type": "code",
   "execution_count": null,
   "metadata": {},
   "outputs": [],
   "source": [
    "new_filename = f'{old_filename}_ver{version}'\n",
    "print(new_filename)"
   ]
  },
  {
   "cell_type": "markdown",
   "metadata": {},
   "source": [
    "<br>And here's an example with a space between the `f` and the first `\"`:"
   ]
  },
  {
   "cell_type": "code",
   "execution_count": null,
   "metadata": {},
   "outputs": [],
   "source": [
    "new_filename = f \"{old_filename}_ver{version}\"\n",
    "print(new_filename)"
   ]
  },
  {
   "cell_type": "markdown",
   "metadata": {},
   "source": [
    "# <br><br>fstring examples and practice exercises"
   ]
  },
  {
   "cell_type": "markdown",
   "metadata": {},
   "source": [
    "## <br><br>Example 1"
   ]
  },
  {
   "cell_type": "code",
   "execution_count": null,
   "metadata": {},
   "outputs": [],
   "source": [
    "name = \"Colby\"\n",
    "adj = \"adventurous\""
   ]
  },
  {
   "cell_type": "markdown",
   "metadata": {},
   "source": [
    "#### <br>Old way:"
   ]
  },
  {
   "cell_type": "code",
   "execution_count": null,
   "metadata": {},
   "outputs": [],
   "source": [
    "hb = \"Happy Birthday, \" + name + \"! Have an \" + adj + \" day.\"\n",
    "print(hb)"
   ]
  },
  {
   "cell_type": "markdown",
   "metadata": {},
   "source": [
    "#### <br>fstring:"
   ]
  },
  {
   "cell_type": "code",
   "execution_count": null,
   "metadata": {},
   "outputs": [],
   "source": [
    "hb = f\"Happy Birthday, {name}! Have an {adj} day.\"\n",
    "print(hb)"
   ]
  },
  {
   "cell_type": "markdown",
   "metadata": {},
   "source": [
    "<br><br>*NOTE: If you want to include curly brackets in a string, you can surround them with another set of curly brackets.*"
   ]
  },
  {
   "cell_type": "code",
   "execution_count": null,
   "metadata": {},
   "outputs": [],
   "source": [
    "hb = f\"Happy Birthday, {{name}}! Have a {adj} day. {{}}\"\n",
    "print(hb)"
   ]
  },
  {
   "cell_type": "markdown",
   "metadata": {},
   "source": [
    "### <br><br>Exercise 1"
   ]
  },
  {
   "cell_type": "markdown",
   "metadata": {},
   "source": [
    "First run this cell:"
   ]
  },
  {
   "cell_type": "code",
   "execution_count": null,
   "metadata": {},
   "outputs": [],
   "source": [
    "animal = \"rabbit\"\n",
    "month = \"January\"\n",
    "day = 22\n",
    "year = 2023"
   ]
  },
  {
   "cell_type": "markdown",
   "metadata": {},
   "source": [
    "<br>Now write an fstring to print: The year of the rabbit will begin on January 22, 2023."
   ]
  },
  {
   "cell_type": "code",
   "execution_count": null,
   "metadata": {},
   "outputs": [],
   "source": [
    "sentence = \n",
    "print(sentence)"
   ]
  },
  {
   "cell_type": "markdown",
   "metadata": {},
   "source": [
    "<br><br><br><br>Did you notice anything interesting about how numbers were handled in that exercise?"
   ]
  },
  {
   "cell_type": "code",
   "execution_count": null,
   "metadata": {},
   "outputs": [],
   "source": [
    "count = 3.5"
   ]
  },
  {
   "cell_type": "markdown",
   "metadata": {},
   "source": [
    "#### <br>Old way"
   ]
  },
  {
   "cell_type": "code",
   "execution_count": null,
   "metadata": {},
   "outputs": [],
   "source": [
    "print(\"Yesterday I ate \" + count + \" cookies.\")"
   ]
  },
  {
   "cell_type": "markdown",
   "metadata": {},
   "source": [
    "<br><br>We would have to explicitly change `count` to a string in order to include it in the string:"
   ]
  },
  {
   "cell_type": "code",
   "execution_count": null,
   "metadata": {},
   "outputs": [],
   "source": [
    "print(\"Yesterday I ate \" + str(count) + \" cookies.\")"
   ]
  },
  {
   "cell_type": "markdown",
   "metadata": {},
   "source": [
    "#### <br><br>fstring"
   ]
  },
  {
   "cell_type": "markdown",
   "metadata": {},
   "source": [
    "An fstring automatically changes any integer or float to a string:"
   ]
  },
  {
   "cell_type": "code",
   "execution_count": null,
   "metadata": {},
   "outputs": [],
   "source": [
    "print(f\"Yesterday I ate {count} cookies.\")"
   ]
  },
  {
   "cell_type": "markdown",
   "metadata": {},
   "source": [
    "## <br><br><br><br>Example 2"
   ]
  },
  {
   "cell_type": "markdown",
   "metadata": {},
   "source": [
    "fstrings aren't only for variables!!"
   ]
  },
  {
   "cell_type": "code",
   "execution_count": null,
   "metadata": {},
   "outputs": [],
   "source": [
    "f\"Eat {6 + 5} kiwis.\""
   ]
  },
  {
   "cell_type": "code",
   "execution_count": null,
   "metadata": {},
   "outputs": [],
   "source": [
    "f\"Eat {2**10 / (13-3)} kiwis.\""
   ]
  },
  {
   "cell_type": "code",
   "execution_count": null,
   "metadata": {},
   "outputs": [],
   "source": [
    "kiwi_piles = [10, 9, 13, 7]\n",
    "f\"Eat {sum(kiwi_piles)} kiwis.\""
   ]
  },
  {
   "cell_type": "code",
   "execution_count": null,
   "metadata": {},
   "outputs": [],
   "source": [
    "kiwi_dreams = \"one hundred\"\n",
    "f\"Eat {kiwi_dreams.upper()} kiwis.\""
   ]
  },
  {
   "cell_type": "markdown",
   "metadata": {},
   "source": [
    "### <br><br>Exercise 2"
   ]
  },
  {
   "cell_type": "code",
   "execution_count": null,
   "metadata": {},
   "outputs": [],
   "source": [
    "name = \"Colby\"\n",
    "count = 11"
   ]
  },
  {
   "cell_type": "markdown",
   "metadata": {},
   "source": [
    "I said I ate 11 kiwis, but you saw me eat 3 more kiwis in secret. Change the code below to reflect the truth:"
   ]
  },
  {
   "cell_type": "code",
   "execution_count": null,
   "metadata": {
    "tags": []
   },
   "outputs": [],
   "source": [
    "print(f\"{name} ate {count} kiwis.\")"
   ]
  },
  {
   "cell_type": "markdown",
   "metadata": {},
   "source": [
    "## <br><br><br>Example 3"
   ]
  },
  {
   "cell_type": "markdown",
   "metadata": {},
   "source": [
    "Let's see how fstrings handle lists."
   ]
  },
  {
   "cell_type": "code",
   "execution_count": null,
   "metadata": {},
   "outputs": [],
   "source": [
    "cookies = [\"Oreo\", \"snickerdoodle\", \"oatmeal chocolate chip\"]"
   ]
  },
  {
   "cell_type": "code",
   "execution_count": null,
   "metadata": {},
   "outputs": [],
   "source": [
    "print(f\"The cookies I ate were {cookies}.\")"
   ]
  },
  {
   "cell_type": "markdown",
   "metadata": {},
   "source": [
    "<br><br>Instead we can index the items in the list:"
   ]
  },
  {
   "cell_type": "code",
   "execution_count": null,
   "metadata": {},
   "outputs": [],
   "source": [
    "print(f\"The cookies I ate were {cookies[0]}, {cookies[1]}, and {cookies[2]}.\")"
   ]
  },
  {
   "cell_type": "markdown",
   "metadata": {},
   "source": [
    "<br><br>Sometimes we don't know how many items will be in a list."
   ]
  },
  {
   "cell_type": "markdown",
   "metadata": {},
   "source": [
    "Let's review list indexing and the `join()` function."
   ]
  },
  {
   "cell_type": "code",
   "execution_count": null,
   "metadata": {},
   "outputs": [],
   "source": [
    "cookies = [\"Oreo\", \"snickerdoodle\", \"oatmeal chocolate chip\"]"
   ]
  },
  {
   "cell_type": "markdown",
   "metadata": {},
   "source": [
    "<br>Before running the cells below, take a minute to think - what will these print?"
   ]
  },
  {
   "cell_type": "code",
   "execution_count": null,
   "metadata": {},
   "outputs": [],
   "source": [
    "cookies[1:]"
   ]
  },
  {
   "cell_type": "code",
   "execution_count": null,
   "metadata": {},
   "outputs": [],
   "source": [
    "cookies[:-1]"
   ]
  },
  {
   "cell_type": "markdown",
   "metadata": {},
   "source": [
    "<br><br>If we don't specify an index after the `:` if will print to the end."
   ]
  },
  {
   "cell_type": "markdown",
   "metadata": {},
   "source": [
    "If we don't specify an index before the `:` if will print from the beginning."
   ]
  },
  {
   "cell_type": "markdown",
   "metadata": {},
   "source": [
    "<br><br>The `join()` function is handy for creating a string out of a list of unknown length."
   ]
  },
  {
   "cell_type": "code",
   "execution_count": null,
   "metadata": {},
   "outputs": [],
   "source": [
    "\", \".join(cookies)"
   ]
  },
  {
   "cell_type": "markdown",
   "metadata": {},
   "source": [
    "<br>Combine `join()` with indexing:"
   ]
  },
  {
   "cell_type": "code",
   "execution_count": null,
   "metadata": {},
   "outputs": [],
   "source": [
    "\", \".join(cookies[:-1])"
   ]
  },
  {
   "cell_type": "markdown",
   "metadata": {},
   "source": [
    "<br><br>Now we can combine that to make a nice, neat sentence:"
   ]
  },
  {
   "cell_type": "code",
   "execution_count": null,
   "metadata": {},
   "outputs": [],
   "source": [
    "print(f\"The cookies I ate were {\", \".join(cookies[:-1])}, and {cookies[-1]}.\")"
   ]
  },
  {
   "cell_type": "markdown",
   "metadata": {},
   "source": [
    "<br><br><br>Uh-oh! When referencing a string inside a string (like at the beginning of the join() function), use single quotes `'` inside double quotes `\"`."
   ]
  },
  {
   "cell_type": "code",
   "execution_count": null,
   "metadata": {},
   "outputs": [],
   "source": [
    "print(f\"The cookies I ate were {', '.join(cookies[:-1])}, and {cookies[-1]}.\")"
   ]
  },
  {
   "cell_type": "markdown",
   "metadata": {},
   "source": [
    "### <br><br>Exercise 3"
   ]
  },
  {
   "cell_type": "code",
   "execution_count": null,
   "metadata": {},
   "outputs": [],
   "source": [
    "name = \"Colby\"\n",
    "grades = [85, 89, 87, 83, 10]"
   ]
  },
  {
   "cell_type": "markdown",
   "metadata": {},
   "source": [
    "<br>Write an fstring to say Dear Colby, Your exam grades were 85, 89, 87, and 83, and your participation grade was 10."
   ]
  },
  {
   "cell_type": "markdown",
   "metadata": {},
   "source": [
    "*Note:* `join()` can't implicitly join integers into a string. You have three options:\n",
    "<br>- Beginner: index the grades individually in your fstring.\n",
    "<br>- Intermediate: Before the `letter` variable assignment, write a for loop to change all the items in `grades` to strings.\n",
    "<br>- Advanced: Use a list comprehension to change the grades to strings inside the `join()` function inside the fstring."
   ]
  },
  {
   "cell_type": "code",
   "execution_count": null,
   "metadata": {},
   "outputs": [],
   "source": [
    "letter = \n",
    "print(letter)"
   ]
  },
  {
   "cell_type": "code",
   "execution_count": null,
   "metadata": {},
   "outputs": [],
   "source": []
  },
  {
   "cell_type": "code",
   "execution_count": null,
   "metadata": {},
   "outputs": [],
   "source": []
  },
  {
   "cell_type": "markdown",
   "metadata": {},
   "source": [
    "## <br><br>Example 4"
   ]
  },
  {
   "cell_type": "markdown",
   "metadata": {},
   "source": [
    "Let's practice using fstrings with dictionaries."
   ]
  },
  {
   "cell_type": "markdown",
   "metadata": {},
   "source": [
    "Here is a **list of dictionaries** with info about six experiments:"
   ]
  },
  {
   "cell_type": "code",
   "execution_count": null,
   "metadata": {},
   "outputs": [],
   "source": [
    "results_list = [{\"run\": 1, \"date\": \"013020\", \"condition\": \"control\", \"result\": 1.3849}, \n",
    "                {\"run\": 1, \"date\": \"013020\", \"condition\": \"cold\", \"result\": .8309},\n",
    "                {\"run\": 2, \"date\": \"013020\", \"condition\": \"control\", \"result\": 1.1384},\n",
    "                {\"run\": 2, \"date\": \"013020\", \"condition\": \"cold\", \"result\": 1.0867},\n",
    "                {\"run\": 3, \"date\": \"013020\", \"condition\": \"control\", \"result\": .8479},\n",
    "                {\"run\": 3, \"date\": \"013020\", \"condition\": \"cold\", \"result\": .7238}]"
   ]
  },
  {
   "cell_type": "markdown",
   "metadata": {},
   "source": [
    "<br>We want to create a results file for each experiment. (So we need to loop through the list.)<br>To create a unique identifier for each result, we will combine the condition, run number, and the word \"results\", in addition to a file extension."
   ]
  },
  {
   "cell_type": "code",
   "execution_count": null,
   "metadata": {},
   "outputs": [],
   "source": [
    "for i in results_list:\n",
    "    #remember that each i is a dictionary\n",
    "    new_filename = f\"{i['condition']}_{i['run']}_results.txt\"\n",
    "    print(new_filename)"
   ]
  },
  {
   "cell_type": "markdown",
   "metadata": {},
   "source": [
    "### <br><br>Exercise 4"
   ]
  },
  {
   "cell_type": "code",
   "execution_count": null,
   "metadata": {},
   "outputs": [],
   "source": [
    "results_dicts = [{\"run\": 1, \"date\": \"013020\", \"condition\": \"control\", \"result\": 1.3849}, \n",
    "                 {\"run\": 1, \"date\": \"013020\", \"condition\": \"cold\", \"result\": .8309},\n",
    "                 {\"run\": 2, \"date\": \"013020\", \"condition\": \"control\", \"result\": 1.1384},\n",
    "                 {\"run\": 2, \"date\": \"013020\", \"condition\": \"cold\", \"result\": 1.0867},\n",
    "                 {\"run\": 3, \"date\": \"013020\", \"condition\": \"control\", \"result\": .8479},\n",
    "                 {\"run\": 3, \"date\": \"013020\", \"condition\": \"cold\", \"result\": .7238}]"
   ]
  },
  {
   "cell_type": "markdown",
   "metadata": {},
   "source": [
    "For each experiment, print a complete sentence with the date, run, condition, and result. Use the `round()` function to round the result to two decimal places."
   ]
  },
  {
   "cell_type": "markdown",
   "metadata": {},
   "source": [
    "The sentence for the first experiment should read: On 013020, I conducted a control experiment; the result from run 1 was 1.38."
   ]
  },
  {
   "cell_type": "code",
   "execution_count": null,
   "metadata": {},
   "outputs": [],
   "source": []
  },
  {
   "cell_type": "code",
   "execution_count": null,
   "metadata": {},
   "outputs": [],
   "source": []
  },
  {
   "cell_type": "markdown",
   "metadata": {},
   "source": [
    "<br>*Don't forget that you need to use single quotes inside double quotes or double quotes inside single quotes.*"
   ]
  },
  {
   "cell_type": "markdown",
   "metadata": {},
   "source": [
    "## <br><br><span style=\"color:teal\">More functions (if we have extra time)"
   ]
  },
  {
   "cell_type": "markdown",
   "metadata": {},
   "source": [
    "[Link to view a list of all Python built-in functions](https://docs.python.org/3/library/functions.html#all)"
   ]
  },
  {
   "cell_type": "markdown",
   "metadata": {},
   "source": [
    "Python has 68 built-in functions, including the functions to change the type of an object (`list(), dict(), range(), tuple(), set(), int(), str(), float(), bool()`). We touched on 18 of the 68 functions this week. Many of the others are used only in special cases or for more technical purposes, but some may interest you.\n",
    "<br><br>We will talk about `any()` and `all()` below. These functions only return a boolean."
   ]
  },
  {
   "cell_type": "markdown",
   "metadata": {},
   "source": [
    "<br>[Link to all built-in string methods](https://docs.python.org/3/library/stdtypes.html#string-methods)"
   ]
  },
  {
   "cell_type": "markdown",
   "metadata": {},
   "source": [
    "There are many string methods we didn't get to. Many of these evaluate to a boolean - we will talk about some of them below."
   ]
  },
  {
   "cell_type": "markdown",
   "metadata": {},
   "source": [
    "[Link to all built-in list methods](https://docs.python.org/3/library/stdtypes.html#mutable-sequence-types)"
   ]
  },
  {
   "cell_type": "markdown",
   "metadata": {},
   "source": [
    "There are a few methods we didn't cover, and they may interest you, so take a look!"
   ]
  },
  {
   "cell_type": "markdown",
   "metadata": {},
   "source": [
    "## <br><br><span style=\"color:teal\">More conditionals"
   ]
  },
  {
   "cell_type": "markdown",
   "metadata": {},
   "source": [
    "Conditionals are booleans (True or False) that can be used to filter objects when you use the conditional in an if/elif/else statement.\n",
    "<br><br>We learned `< > <= >= == !=` and `in`.\n",
    "<br><br>There are several functions that you can also use in an if statement to help you filter. **These all return only True or False.**"
   ]
  },
  {
   "cell_type": "markdown",
   "metadata": {},
   "source": [
    "#### String methods"
   ]
  },
  {
   "cell_type": "markdown",
   "metadata": {},
   "source": [
    "Check out the link above for the full list of string methods, but I will show some of the ones that you can use with if statements. For each function, I'll show one example that evaluates to True and one that evaluates to False."
   ]
  },
  {
   "cell_type": "markdown",
   "metadata": {},
   "source": [
    "#### For each line of code, try to guess if it will return True or False:"
   ]
  },
  {
   "cell_type": "code",
   "execution_count": null,
   "metadata": {},
   "outputs": [],
   "source": [
    "\"peanut butter\".endswith(\"butter\")"
   ]
  },
  {
   "cell_type": "code",
   "execution_count": null,
   "metadata": {},
   "outputs": [],
   "source": [
    "\"jelly\".endswith(\"butter\")"
   ]
  },
  {
   "cell_type": "code",
   "execution_count": null,
   "metadata": {},
   "outputs": [],
   "source": [
    "\"peanut butter\".startswith(\"peanut\")"
   ]
  },
  {
   "cell_type": "code",
   "execution_count": null,
   "metadata": {},
   "outputs": [],
   "source": [
    "\"jelly\".startswith(\"peanut\")"
   ]
  },
  {
   "cell_type": "code",
   "execution_count": null,
   "metadata": {},
   "outputs": [],
   "source": [
    "\"peanut butter\".isspace()"
   ]
  },
  {
   "cell_type": "code",
   "execution_count": null,
   "metadata": {},
   "outputs": [],
   "source": [
    "\"     \".isspace()"
   ]
  },
  {
   "cell_type": "code",
   "execution_count": null,
   "metadata": {},
   "outputs": [],
   "source": [
    "\"jelly\".isalpha()"
   ]
  },
  {
   "cell_type": "code",
   "execution_count": null,
   "metadata": {},
   "outputs": [],
   "source": [
    "\"peanut butter\".isalpha()"
   ]
  },
  {
   "cell_type": "code",
   "execution_count": null,
   "metadata": {},
   "outputs": [],
   "source": [
    "\"73117\".isdigit()"
   ]
  },
  {
   "cell_type": "code",
   "execution_count": null,
   "metadata": {},
   "outputs": [],
   "source": [
    "\"peanut butter\".isdigit()"
   ]
  },
  {
   "cell_type": "code",
   "execution_count": null,
   "metadata": {},
   "outputs": [],
   "source": [
    "\"peanut butter\".isupper()"
   ]
  },
  {
   "cell_type": "code",
   "execution_count": null,
   "metadata": {},
   "outputs": [],
   "source": [
    "\"JELLY\".isupper()"
   ]
  },
  {
   "cell_type": "code",
   "execution_count": null,
   "metadata": {},
   "outputs": [],
   "source": [
    "\"peanut butter\".islower()"
   ]
  },
  {
   "cell_type": "code",
   "execution_count": null,
   "metadata": {},
   "outputs": [],
   "source": [
    "\"JELLY\".islower()"
   ]
  },
  {
   "cell_type": "code",
   "execution_count": null,
   "metadata": {},
   "outputs": [],
   "source": [
    "\"Peanut Butter\".istitle()"
   ]
  },
  {
   "cell_type": "code",
   "execution_count": null,
   "metadata": {},
   "outputs": [],
   "source": [
    "\"jelly\".istitle()"
   ]
  },
  {
   "cell_type": "markdown",
   "metadata": {},
   "source": [
    "<br>Here's an example in a for loop:"
   ]
  },
  {
   "cell_type": "code",
   "execution_count": null,
   "metadata": {},
   "outputs": [],
   "source": [
    "for food in [\"peanut butter\", \"jelly\"]:\n",
    "    if food.isalpha():\n",
    "        print(food)"
   ]
  },
  {
   "cell_type": "markdown",
   "metadata": {},
   "source": [
    "#### <br><br>Functions"
   ]
  },
  {
   "cell_type": "markdown",
   "metadata": {},
   "source": [
    "`any()` and `all()` can be used to combine multiple conditionals into one boolean. \n",
    "<br><br>For `any()` to be True, only one conditional in a list needs to be True:"
   ]
  },
  {
   "cell_type": "code",
   "execution_count": null,
   "metadata": {},
   "outputs": [],
   "source": [
    "song_list = [\"Don't Stop Me Now (Queen)\",\n",
    "             \"Dancing Queen (Abba)\",\n",
    "             \"Good Vibrations (The Beach Boys)\",\n",
    "             \"Uptown Girl (Billie Joel)\",\n",
    "             \"Eye of the Tiger (Survivor)\",\n",
    "             \"I'm a Believer (The Monkees)\",\n",
    "             \"Girls Just Wanna Have Fun (Cyndi Lauper)\",\n",
    "             \"Livin' on a Prayer (Jon Bon Jovi)\",\n",
    "             \"I Will Survive (Gloria Gaynor)\",\n",
    "             \"Walking on Sunshine (Katrina & The Waves)\"]"
   ]
  },
  {
   "cell_type": "code",
   "execution_count": null,
   "metadata": {},
   "outputs": [],
   "source": [
    "for song in song_list:\n",
    "    if any([song.startswith(\"I\") and \"'\" not in song, \n",
    "            song.startswith(\"Don't\"),\n",
    "            song.startswith(\"Good\")]):\n",
    "        print(song)"
   ]
  },
  {
   "cell_type": "markdown",
   "metadata": {},
   "source": [
    "<br><br>For `all()` to be True, all the conditionals in a list need to be True:"
   ]
  },
  {
   "cell_type": "code",
   "execution_count": null,
   "metadata": {},
   "outputs": [],
   "source": [
    "for song in song_list:\n",
    "    if all([\"Girl\" in song, \n",
    "            song.istitle(),\n",
    "            len(song) >= 26]):\n",
    "        print(song)"
   ]
  },
  {
   "cell_type": "markdown",
   "metadata": {},
   "source": [
    "- Pandas is one of the most commonly used Python packages/libraries for data science.<br><br>\n",
    "- Pandas is Python's answer for making two dimensional tables (ala Excel and SQL).<br><br>\n",
    "- Pandas calls a table a \"DataFrame\".<br><br>\n",
    "- Pandas DataFrames are used by Python's other packages for statistical analysis, data manipulation, and data visualization.<br><br>\n",
    "- Pandas can read csv, tab, excel, and other files.<br><br>\n",
    "- Pandas DataFrames can be exported as .csv and other files.<br><br>"
   ]
  },
  {
   "cell_type": "markdown",
   "metadata": {},
   "source": [
    "Today, I only have time to demo how to open files in Pandas and show you what the DataFrame looks like."
   ]
  },
  {
   "cell_type": "markdown",
   "metadata": {},
   "source": [
    "#### <br>import pandas"
   ]
  },
  {
   "cell_type": "markdown",
   "metadata": {},
   "source": [
    "Because pandas is one of the most commonly used Python packages, it often gets imported as a shortened version of it's actual name. This makes it quicker to type."
   ]
  },
  {
   "cell_type": "code",
   "execution_count": null,
   "metadata": {},
   "outputs": [],
   "source": [
    "import pandas as pd"
   ]
  },
  {
   "cell_type": "markdown",
   "metadata": {},
   "source": [
    "<br><br>**Google Colab Users ONLY:** run the next cell to load in the data."
   ]
  },
  {
   "cell_type": "code",
   "execution_count": null,
   "metadata": {},
   "outputs": [],
   "source": [
    "!wget https://raw.githubusercontent.com/aGitHasNoName/pythonBootcampFriday/master/foul-balls.csv\n",
    "!wget https://raw.githubusercontent.com/aGitHasNoName/pythonBootcampFriday/master/foulBalls.xlsx"
   ]
  },
  {
   "cell_type": "markdown",
   "metadata": {},
   "source": [
    "#### <br>loading a csv file"
   ]
  },
  {
   "cell_type": "markdown",
   "metadata": {},
   "source": [
    "We will use the function `pd.read_csv()`. This will automatically create a DataFrame object, which we are saving as `df`. `df` is a common variable name for a DataFrame. You can open the file, define it as a Pandas DataFrame, assign it to a variable, and close the file in one line."
   ]
  },
  {
   "cell_type": "code",
   "execution_count": null,
   "metadata": {},
   "outputs": [],
   "source": [
    "df = pd.read_csv(\"foul-balls.csv\")"
   ]
  },
  {
   "cell_type": "markdown",
   "metadata": {},
   "source": [
    "#### <br>viewing the DataFrame"
   ]
  },
  {
   "cell_type": "code",
   "execution_count": null,
   "metadata": {},
   "outputs": [],
   "source": [
    "df"
   ]
  },
  {
   "cell_type": "markdown",
   "metadata": {},
   "source": [
    "<br>Take a minute to look at the data. The DataFrame will have a slightly different look on Colab and Jupyter, and on different versions of Jupyter.\n",
    "<br><br>The number at the beginning of each row is called an **index**. The index was automatically assigned by pandas when the dataset was loaded. It was not in the original csv file. It is merely a series of consecutive numbers going down the rows. The rows were loaded in whatever order they were in the csv file.\n",
    "<br><br>Pandas also replaced any empty cells with `NaN` - a special data type for missing data."
   ]
  },
  {
   "cell_type": "markdown",
   "metadata": {},
   "source": [
    "<br><br>Here's a very quick plot from the data:"
   ]
  },
  {
   "cell_type": "code",
   "execution_count": null,
   "metadata": {},
   "outputs": [],
   "source": [
    "pie = df.groupby(\"used_zone\")[\"used_zone\"].count().plot(kind = 'pie', title = \"Foul balls by section\")"
   ]
  },
  {
   "cell_type": "markdown",
   "metadata": {},
   "source": [
    "#### <br><br>loading an excel file"
   ]
  },
  {
   "cell_type": "markdown",
   "metadata": {},
   "source": [
    "Now we'll load a sheet from an Excel file using `pd.read_excel()`. We want Sheet 2 from the file, but this is Python, so to get the second sheet, we give the keyword argument `sheet_name=1`."
   ]
  },
  {
   "cell_type": "code",
   "execution_count": null,
   "metadata": {},
   "outputs": [],
   "source": [
    "df2 = pd.read_excel(\"foulBalls.xlsx\", sheet_name=1)"
   ]
  },
  {
   "cell_type": "code",
   "execution_count": null,
   "metadata": {},
   "outputs": [],
   "source": [
    "df2"
   ]
  },
  {
   "cell_type": "markdown",
   "metadata": {},
   "source": [
    "### <br><br><span style=\"color:teal\">How to practice Python"
   ]
  },
  {
   "cell_type": "markdown",
   "metadata": {},
   "source": [
    "The best way to practice Python is to use it in your own research, or for your own job.\n",
    "<br><br>If you don't have a research project ready to work on, try to assign yourself a task, preferably with a deadline. If you do any grading with students, try to calculate summary statistics on the grades you assign. If you have a data cleaning task that you would normally do in Excel, try to do it in Python. If you work in a lab, ask the post doc or PI if they have a small coding task you could try in Python.\n",
    "<br><br>Teaching or helping others is also a great way to improve your skills - if you know someone who is just starting to learn Python, make yourself available to help answer questions, and really try to look up and find the answers."
   ]
  },
  {
   "cell_type": "markdown",
   "metadata": {},
   "source": [
    "### <br><br><span style=\"color:teal\">How to get help"
   ]
  },
  {
   "cell_type": "markdown",
   "metadata": {},
   "source": [
    "Research Computing Services at Northwestern provides free programming and data consultations, including help debugging code.\n",
    "<br>[Link to RCS consultation request form](https://www.it.northwestern.edu/research/consultation/data-services.html)"
   ]
  },
  {
   "cell_type": "markdown",
   "metadata": {},
   "source": [
    "### <br><br><span style=\"color:magenta\">Thank you!"
   ]
  },
  {
   "cell_type": "markdown",
   "metadata": {},
   "source": [
    "Questions about today's topics?\n",
    "Questions about the homework? (Post your code on the Discussions page)\n",
    "Questions about what you should learn next?\n",
    "Any other questions about Python or coding in general?"
   ]
  },
  {
   "cell_type": "markdown",
   "metadata": {},
   "source": []
  }
 ],
 "metadata": {
  "kernelspec": {
   "display_name": "Python 3",
   "language": "python",
   "name": "python3"
  },
  "language_info": {
   "codemirror_mode": {
    "name": "ipython",
    "version": 3
   },
   "file_extension": ".py",
   "mimetype": "text/x-python",
   "name": "python",
   "nbconvert_exporter": "python",
   "pygments_lexer": "ipython3",
   "version": "3.8.2"
  }
 },
 "nbformat": 4,
 "nbformat_minor": 4
}
