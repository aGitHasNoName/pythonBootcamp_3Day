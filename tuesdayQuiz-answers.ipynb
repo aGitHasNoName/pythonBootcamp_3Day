{
 "cells": [
  {
   "cell_type": "markdown",
   "metadata": {},
   "source": [
    "# Tuesday Quiz"
   ]
  },
  {
   "cell_type": "markdown",
   "metadata": {},
   "source": [
    "1. Create a list of the following numbers: 35, 28, 48, 21, 61, and 39. Find the mean of these numbers. Print the mean as part of a complete sentence."
   ]
  },
  {
   "cell_type": "code",
   "execution_count": 2,
   "metadata": {},
   "outputs": [],
   "source": [
    "import statistics"
   ]
  },
  {
   "cell_type": "code",
   "execution_count": 3,
   "metadata": {},
   "outputs": [],
   "source": [
    "numbers = [35, 28, 48, 21, 61, 39]"
   ]
  },
  {
   "cell_type": "code",
   "execution_count": 10,
   "metadata": {},
   "outputs": [],
   "source": [
    "mean_num = statistics.mean(numbers)"
   ]
  },
  {
   "cell_type": "code",
   "execution_count": 11,
   "metadata": {},
   "outputs": [
    {
     "name": "stdout",
     "output_type": "stream",
     "text": [
      "The mean is 38.666666666666664.\n"
     ]
    }
   ],
   "source": [
    "print(\"The mean is \" + str(mean_num) + \".\")"
   ]
  },
  {
   "cell_type": "markdown",
   "metadata": {},
   "source": [
    "2. Join the following list together into a string. Use a space to separate the items in the list."
   ]
  },
  {
   "cell_type": "code",
   "execution_count": 7,
   "metadata": {},
   "outputs": [],
   "source": [
    "song = [\"Come\", \"gather\", \"'round\", \"people\", \"Wherever\", \"you\", \"roam\"]"
   ]
  },
  {
   "cell_type": "code",
   "execution_count": 8,
   "metadata": {},
   "outputs": [
    {
     "data": {
      "text/plain": [
       "\"Come gather 'round people Wherever you roam\""
      ]
     },
     "execution_count": 8,
     "metadata": {},
     "output_type": "execute_result"
    }
   ],
   "source": [
    "\" \".join(song)"
   ]
  },
  {
   "cell_type": "code",
   "execution_count": null,
   "metadata": {},
   "outputs": [],
   "source": []
  },
  {
   "cell_type": "markdown",
   "metadata": {},
   "source": [
    "3. Store the list below. Write a for loop to print out the first letter of each item in the list."
   ]
  },
  {
   "cell_type": "code",
   "execution_count": 9,
   "metadata": {},
   "outputs": [],
   "source": [
    "months = [\"January\", \"February\", \"March\", \"April\", \n",
    "          \"May\", \"June\", \"July\", \"August\", \"September\", \n",
    "          \"October\", \"November\", \"December\"]"
   ]
  },
  {
   "cell_type": "code",
   "execution_count": 12,
   "metadata": {},
   "outputs": [
    {
     "name": "stdout",
     "output_type": "stream",
     "text": [
      "J\n",
      "F\n",
      "M\n",
      "A\n",
      "M\n",
      "J\n",
      "J\n",
      "A\n",
      "S\n",
      "O\n",
      "N\n",
      "D\n"
     ]
    }
   ],
   "source": [
    "for m in months:\n",
    "    print(m[0])"
   ]
  },
  {
   "cell_type": "code",
   "execution_count": null,
   "metadata": {},
   "outputs": [],
   "source": []
  },
  {
   "cell_type": "markdown",
   "metadata": {},
   "source": [
    "4. Store the list and empty lists below. Write a for loop to loop through the list `times`. Write an if/elif/else statement to sort the items and append the terms onto the correct lists. *Hint: there are several ways to do this. Here are some ideas that might help: `type()`, `in`, `not in`, `len()`.*"
   ]
  },
  {
   "cell_type": "code",
   "execution_count": 16,
   "metadata": {},
   "outputs": [],
   "source": [
    "times = [\"Tuesday\", \"June\", 8, \"July\", \"Wednesday\", 10, \"Thursday\", 12, \"April\"]\n",
    "days = []\n",
    "months = []\n",
    "numbers = []"
   ]
  },
  {
   "cell_type": "code",
   "execution_count": 14,
   "metadata": {},
   "outputs": [],
   "source": [
    "for t in times:\n",
    "    if type(t) == int:\n",
    "        numbers.append(t)\n",
    "    elif \"day\" in t:\n",
    "        days.append(t)\n",
    "    else:\n",
    "        months.append(t)"
   ]
  },
  {
   "cell_type": "markdown",
   "metadata": {},
   "source": [
    "OR"
   ]
  },
  {
   "cell_type": "code",
   "execution_count": 17,
   "metadata": {},
   "outputs": [],
   "source": [
    "for t in times:\n",
    "    try:\n",
    "        if len(t) <= 5:\n",
    "            months.append(t)\n",
    "        elif len(t) > 5:\n",
    "            days.append(t)\n",
    "    except TypeError:\n",
    "        numbers.append(t)"
   ]
  },
  {
   "cell_type": "code",
   "execution_count": 18,
   "metadata": {},
   "outputs": [
    {
     "name": "stdout",
     "output_type": "stream",
     "text": [
      "['Tuesday', 'Wednesday', 'Thursday']\n",
      "['June', 'July', 'April']\n",
      "[8, 10, 12]\n"
     ]
    }
   ],
   "source": [
    "print(days)\n",
    "print(months)\n",
    "print(numbers)"
   ]
  },
  {
   "cell_type": "markdown",
   "metadata": {},
   "source": [
    "OR any other way that works!"
   ]
  },
  {
   "cell_type": "code",
   "execution_count": null,
   "metadata": {},
   "outputs": [],
   "source": []
  }
 ],
 "metadata": {
  "kernelspec": {
   "display_name": "Python 3",
   "language": "python",
   "name": "python3"
  },
  "language_info": {
   "codemirror_mode": {
    "name": "ipython",
    "version": 3
   },
   "file_extension": ".py",
   "mimetype": "text/x-python",
   "name": "python",
   "nbconvert_exporter": "python",
   "pygments_lexer": "ipython3",
   "version": "3.7.3"
  }
 },
 "nbformat": 4,
 "nbformat_minor": 4
}
