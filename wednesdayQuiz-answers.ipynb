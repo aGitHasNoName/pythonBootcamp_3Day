{
 "cells": [
  {
   "cell_type": "markdown",
   "metadata": {},
   "source": [
    "# Wednesday Quiz"
   ]
  },
  {
   "cell_type": "markdown",
   "metadata": {},
   "source": [
    "#### *If you are using Google Colab ONLY, run this line:*"
   ]
  },
  {
   "cell_type": "code",
   "execution_count": null,
   "metadata": {},
   "outputs": [],
   "source": [
    "!wget https://raw.githubusercontent.com/aGitHasNoName/pythonBootcamp_3Day/main/DNAresults.csv\n",
    "!wget https://raw.githubusercontent.com/aGitHasNoName/pythonBootcamp_3Day/main/class_grades.txt\n",
    "!wget https://raw.githubusercontent.com/aGitHasNoName/pythonBootcamp_3Day/main/alice.txt"
   ]
  },
  {
   "cell_type": "markdown",
   "metadata": {},
   "source": [
    "1. Correct the errors in this code. It's ok to run the code first to see the error message:"
   ]
  },
  {
   "cell_type": "code",
   "execution_count": 1,
   "metadata": {},
   "outputs": [],
   "source": [
    "tiny_toons = {\"Elmyra Duff\": \"Human\", \"Hamton J. Pig\": \"Pig\", \n",
    "              \"Babs Bunny\": \"Rabbit\", \"Buster Bunny\": \"Rabbit\", \n",
    "              \"Plucky Duck\": \"Duck\", \"Montana Max\": \"Human\", \n",
    "              \"Fifi La Fume\": \"Skunk\"}"
   ]
  },
  {
   "cell_type": "markdown",
   "metadata": {},
   "source": [
    "*Changed `=` to `:`*"
   ]
  },
  {
   "cell_type": "markdown",
   "metadata": {},
   "source": [
    "2. Correct the error in this code. It's ok to run the code first to see the error message:"
   ]
  },
  {
   "cell_type": "code",
   "execution_count": 2,
   "metadata": {},
   "outputs": [
    {
     "name": "stdout",
     "output_type": "stream",
     "text": [
      "Alice was beginning to get very tired of sitting by her sister on the bank, and of having nothing to do: once or twice she had peeped into the book her sister was reading, but it had no pictures or conversations in it, \"and what is the use of a book,\" thought Alice, \"without pictures or conversations?\"\n",
      "\n"
     ]
    }
   ],
   "source": [
    "with open(\"alice.txt\", \"r\") as f:\n",
    "    print(f.readlines()[0])"
   ]
  },
  {
   "cell_type": "markdown",
   "metadata": {},
   "source": [
    "*Added a `:` at the end of the with/as statement.*"
   ]
  },
  {
   "cell_type": "markdown",
   "metadata": {},
   "source": [
    "3. Correct the errors in this code. It's ok to run the code first to see the error message:"
   ]
  },
  {
   "cell_type": "code",
   "execution_count": 3,
   "metadata": {},
   "outputs": [
    {
     "data": {
      "text/plain": [
       "26.07"
      ]
     },
     "execution_count": 3,
     "metadata": {},
     "output_type": "execute_result"
    }
   ],
   "source": [
    "def milesToNaut(miles):\n",
    "    naut = round(miles * 0.868976, 2)\n",
    "    return naut\n",
    "milesToNaut(30)"
   ]
  },
  {
   "cell_type": "markdown",
   "metadata": {},
   "source": [
    "*Indented the return statement*"
   ]
  },
  {
   "cell_type": "markdown",
   "metadata": {},
   "source": [
    "4. Make an empty list called `class_list`. Write code to open the file \"class_grades.txt\" and append each line to the `class_list` list with the new line characters removed from the ends of the lines:"
   ]
  },
  {
   "cell_type": "code",
   "execution_count": 4,
   "metadata": {},
   "outputs": [],
   "source": [
    "class_list = []"
   ]
  },
  {
   "cell_type": "code",
   "execution_count": 5,
   "metadata": {},
   "outputs": [],
   "source": [
    "with open(\"class_grades.txt\", \"r\") as f:\n",
    "    for line in f.readlines():\n",
    "        class_list.append(line.rstrip(\"\\n\"))"
   ]
  },
  {
   "cell_type": "code",
   "execution_count": 6,
   "metadata": {},
   "outputs": [
    {
     "name": "stdout",
     "output_type": "stream",
     "text": [
      "['Never gonna give you up', 'Never gonna let you down', 'Never gonna run around and desert you', 'Never gonna make you cry', 'Never gonna say goodbye', 'Never gonna tell a lie and hurt you']\n"
     ]
    }
   ],
   "source": [
    "print(class_list)"
   ]
  },
  {
   "cell_type": "markdown",
   "metadata": {},
   "source": [
    "5. I've written code below to show you what the file `DNAresults.csv` looks like. Decide how you would like to store this data - as a list of lists, a dictionary, a list of dictionaries, or a dictionary of dictionaries. Write down the steps you will need to do to transform the data into your structure of choice, and then try to write the code."
   ]
  },
  {
   "cell_type": "code",
   "execution_count": 1,
   "metadata": {},
   "outputs": [
    {
     "name": "stdout",
     "output_type": "stream",
     "text": [
      "well,sample,site,result\n",
      "\n",
      "1,DNA1,A1847,present\n",
      "\n",
      "2,DNA2,A1847,present\n",
      "\n",
      "3,DNA3,A1847,absent\n",
      "\n",
      "4,DNA4,A1847,absent\n",
      "\n",
      "5,DNA5,A1847,absent\n",
      "\n",
      "6,DNA6,A1847,present\n",
      "\n",
      "7,DNA7,A1847,present\n",
      "\n",
      "8,DNA8,A1847,absent\n",
      "\n",
      "9,DNA9,A1847,absent\n",
      "\n",
      "10,DNA10,A1847,absent\n",
      "\n",
      "11,DNA11,A1847,absent\n",
      "\n",
      "12,none,A1847,absent\n",
      "\n",
      "13,DNA1,A381,present\n",
      "\n",
      "14,DNA2,A381,absent\n",
      "\n",
      "15,DNA3,A381,present\n",
      "\n",
      "16,DNA4,A381,present\n",
      "\n",
      "17,DNA5,A381,absent\n",
      "\n",
      "18,DNA6,A381,present\n",
      "\n",
      "19,DNA7,A381,present\n",
      "\n",
      "20,DNA8,A381,present\n",
      "\n",
      "21,DNA9,A381,present\n",
      "\n",
      "22,DNA10,A381,absent\n",
      "\n",
      "23,DNA11,A381,absent\n",
      "\n",
      "24,none,A381,absent\n",
      "\n",
      "25,DNA1,B372,absent\n",
      "\n",
      "26,DNA2,B372,absent\n",
      "\n",
      "27,DNA3,B372,present\n",
      "\n",
      "28,DNA4,B372,present\n",
      "\n",
      "29,DNA5,B372,present\n",
      "\n",
      "30,DNA6,B372,present\n",
      "\n",
      "31,DNA7,B372,present\n",
      "\n",
      "32,DNA8,B372,present\n",
      "\n",
      "33,DNA9,B372,present\n",
      "\n",
      "34,DNA10,B372,absent\n",
      "\n",
      "35,DNA11,B372,present\n",
      "\n",
      "36,none,B372,absent\n",
      "\n",
      "37,DNA1,B1827,absent\n",
      "\n",
      "38,DNA2,B1827,present\n",
      "\n",
      "39,DNA3,B1827,present\n",
      "\n",
      "40,DNA4,B1827,absent\n",
      "\n",
      "41,DNA5,B1827,absent\n",
      "\n",
      "42,DNA6,B1827,present\n",
      "\n",
      "43,DNA7,B1827,present\n",
      "\n",
      "44,DNA8,B1827,present\n",
      "\n",
      "45,DNA9,B1827,present\n",
      "\n",
      "46,DNA10,B1827,absent\n",
      "\n",
      "47,DNA11,B1827,present\n",
      "\n",
      "48,none,B1827,absent\n"
     ]
    }
   ],
   "source": [
    "dna_file = \"DNAresults.csv\"\n",
    "with open(dna_file, \"r\") as f:\n",
    "    for line in f.readlines():\n",
    "        print(line)"
   ]
  },
  {
   "cell_type": "code",
   "execution_count": 4,
   "metadata": {},
   "outputs": [
    {
     "name": "stdout",
     "output_type": "stream",
     "text": [
      "[['1', 'DNA1', 'A1847', 'present'], ['2', 'DNA2', 'A1847', 'present'], ['3', 'DNA3', 'A1847', 'absent'], ['4', 'DNA4', 'A1847', 'absent'], ['5', 'DNA5', 'A1847', 'absent'], ['6', 'DNA6', 'A1847', 'present'], ['7', 'DNA7', 'A1847', 'present'], ['8', 'DNA8', 'A1847', 'absent'], ['9', 'DNA9', 'A1847', 'absent'], ['10', 'DNA10', 'A1847', 'absent'], ['11', 'DNA11', 'A1847', 'absent'], ['12', 'none', 'A1847', 'absent'], ['13', 'DNA1', 'A381', 'present'], ['14', 'DNA2', 'A381', 'absent'], ['15', 'DNA3', 'A381', 'present'], ['16', 'DNA4', 'A381', 'present'], ['17', 'DNA5', 'A381', 'absent'], ['18', 'DNA6', 'A381', 'present'], ['19', 'DNA7', 'A381', 'present'], ['20', 'DNA8', 'A381', 'present'], ['21', 'DNA9', 'A381', 'present'], ['22', 'DNA10', 'A381', 'absent'], ['23', 'DNA11', 'A381', 'absent'], ['24', 'none', 'A381', 'absent'], ['25', 'DNA1', 'B372', 'absent'], ['26', 'DNA2', 'B372', 'absent'], ['27', 'DNA3', 'B372', 'present'], ['28', 'DNA4', 'B372', 'present'], ['29', 'DNA5', 'B372', 'present'], ['30', 'DNA6', 'B372', 'present'], ['31', 'DNA7', 'B372', 'present'], ['32', 'DNA8', 'B372', 'present'], ['33', 'DNA9', 'B372', 'present'], ['34', 'DNA10', 'B372', 'absent'], ['35', 'DNA11', 'B372', 'present'], ['36', 'none', 'B372', 'absent'], ['37', 'DNA1', 'B1827', 'absent'], ['38', 'DNA2', 'B1827', 'present'], ['39', 'DNA3', 'B1827', 'present'], ['40', 'DNA4', 'B1827', 'absent'], ['41', 'DNA5', 'B1827', 'absent'], ['42', 'DNA6', 'B1827', 'present'], ['43', 'DNA7', 'B1827', 'present'], ['44', 'DNA8', 'B1827', 'present'], ['45', 'DNA9', 'B1827', 'present'], ['46', 'DNA10', 'B1827', 'absent'], ['47', 'DNA11', 'B1827', 'present'], ['48', 'none', 'B1827', 'absent']]\n"
     ]
    }
   ],
   "source": [
    "#A simple list of lists\n",
    "results = []\n",
    "with open(dna_file, \"r\") as f:\n",
    "    for line in f.readlines()[1:]:\n",
    "        results.append(line.rstrip(\"\\n\").split(\",\"))\n",
    "print(results)"
   ]
  },
  {
   "cell_type": "code",
   "execution_count": 5,
   "metadata": {},
   "outputs": [
    {
     "name": "stdout",
     "output_type": "stream",
     "text": [
      "{'1': ['DNA1', 'A1847', 'present'], '2': ['DNA2', 'A1847', 'present'], '3': ['DNA3', 'A1847', 'absent'], '4': ['DNA4', 'A1847', 'absent'], '5': ['DNA5', 'A1847', 'absent'], '6': ['DNA6', 'A1847', 'present'], '7': ['DNA7', 'A1847', 'present'], '8': ['DNA8', 'A1847', 'absent'], '9': ['DNA9', 'A1847', 'absent'], '10': ['DNA10', 'A1847', 'absent'], '11': ['DNA11', 'A1847', 'absent'], '12': ['none', 'A1847', 'absent'], '13': ['DNA1', 'A381', 'present'], '14': ['DNA2', 'A381', 'absent'], '15': ['DNA3', 'A381', 'present'], '16': ['DNA4', 'A381', 'present'], '17': ['DNA5', 'A381', 'absent'], '18': ['DNA6', 'A381', 'present'], '19': ['DNA7', 'A381', 'present'], '20': ['DNA8', 'A381', 'present'], '21': ['DNA9', 'A381', 'present'], '22': ['DNA10', 'A381', 'absent'], '23': ['DNA11', 'A381', 'absent'], '24': ['none', 'A381', 'absent'], '25': ['DNA1', 'B372', 'absent'], '26': ['DNA2', 'B372', 'absent'], '27': ['DNA3', 'B372', 'present'], '28': ['DNA4', 'B372', 'present'], '29': ['DNA5', 'B372', 'present'], '30': ['DNA6', 'B372', 'present'], '31': ['DNA7', 'B372', 'present'], '32': ['DNA8', 'B372', 'present'], '33': ['DNA9', 'B372', 'present'], '34': ['DNA10', 'B372', 'absent'], '35': ['DNA11', 'B372', 'present'], '36': ['none', 'B372', 'absent'], '37': ['DNA1', 'B1827', 'absent'], '38': ['DNA2', 'B1827', 'present'], '39': ['DNA3', 'B1827', 'present'], '40': ['DNA4', 'B1827', 'absent'], '41': ['DNA5', 'B1827', 'absent'], '42': ['DNA6', 'B1827', 'present'], '43': ['DNA7', 'B1827', 'present'], '44': ['DNA8', 'B1827', 'present'], '45': ['DNA9', 'B1827', 'present'], '46': ['DNA10', 'B1827', 'absent'], '47': ['DNA11', 'B1827', 'present'], '48': ['none', 'B1827', 'absent']}\n"
     ]
    }
   ],
   "source": [
    "#A simple dictionary\n",
    "results = {}\n",
    "with open(dna_file, \"r\") as f:\n",
    "    for line in f.readlines()[1:]:\n",
    "        line_s = line.rstrip(\"\\n\").split(\",\")\n",
    "        results[line_s[0]] = line_s[1:]\n",
    "print(results)"
   ]
  },
  {
   "cell_type": "code",
   "execution_count": 10,
   "metadata": {},
   "outputs": [
    {
     "name": "stdout",
     "output_type": "stream",
     "text": [
      "{'1': {'sample': 'DNA1', 'site': 'A1847', 'result': 'present'}, '2': {'sample': 'DNA2', 'site': 'A1847', 'result': 'present'}, '3': {'sample': 'DNA3', 'site': 'A1847', 'result': 'absent'}, '4': {'sample': 'DNA4', 'site': 'A1847', 'result': 'absent'}, '5': {'sample': 'DNA5', 'site': 'A1847', 'result': 'absent'}, '6': {'sample': 'DNA6', 'site': 'A1847', 'result': 'present'}, '7': {'sample': 'DNA7', 'site': 'A1847', 'result': 'present'}, '8': {'sample': 'DNA8', 'site': 'A1847', 'result': 'absent'}, '9': {'sample': 'DNA9', 'site': 'A1847', 'result': 'absent'}, '10': {'sample': 'DNA10', 'site': 'A1847', 'result': 'absent'}, '11': {'sample': 'DNA11', 'site': 'A1847', 'result': 'absent'}, '12': {'sample': 'none', 'site': 'A1847', 'result': 'absent'}, '13': {'sample': 'DNA1', 'site': 'A381', 'result': 'present'}, '14': {'sample': 'DNA2', 'site': 'A381', 'result': 'absent'}, '15': {'sample': 'DNA3', 'site': 'A381', 'result': 'present'}, '16': {'sample': 'DNA4', 'site': 'A381', 'result': 'present'}, '17': {'sample': 'DNA5', 'site': 'A381', 'result': 'absent'}, '18': {'sample': 'DNA6', 'site': 'A381', 'result': 'present'}, '19': {'sample': 'DNA7', 'site': 'A381', 'result': 'present'}, '20': {'sample': 'DNA8', 'site': 'A381', 'result': 'present'}, '21': {'sample': 'DNA9', 'site': 'A381', 'result': 'present'}, '22': {'sample': 'DNA10', 'site': 'A381', 'result': 'absent'}, '23': {'sample': 'DNA11', 'site': 'A381', 'result': 'absent'}, '24': {'sample': 'none', 'site': 'A381', 'result': 'absent'}, '25': {'sample': 'DNA1', 'site': 'B372', 'result': 'absent'}, '26': {'sample': 'DNA2', 'site': 'B372', 'result': 'absent'}, '27': {'sample': 'DNA3', 'site': 'B372', 'result': 'present'}, '28': {'sample': 'DNA4', 'site': 'B372', 'result': 'present'}, '29': {'sample': 'DNA5', 'site': 'B372', 'result': 'present'}, '30': {'sample': 'DNA6', 'site': 'B372', 'result': 'present'}, '31': {'sample': 'DNA7', 'site': 'B372', 'result': 'present'}, '32': {'sample': 'DNA8', 'site': 'B372', 'result': 'present'}, '33': {'sample': 'DNA9', 'site': 'B372', 'result': 'present'}, '34': {'sample': 'DNA10', 'site': 'B372', 'result': 'absent'}, '35': {'sample': 'DNA11', 'site': 'B372', 'result': 'present'}, '36': {'sample': 'none', 'site': 'B372', 'result': 'absent'}, '37': {'sample': 'DNA1', 'site': 'B1827', 'result': 'absent'}, '38': {'sample': 'DNA2', 'site': 'B1827', 'result': 'present'}, '39': {'sample': 'DNA3', 'site': 'B1827', 'result': 'present'}, '40': {'sample': 'DNA4', 'site': 'B1827', 'result': 'absent'}, '41': {'sample': 'DNA5', 'site': 'B1827', 'result': 'absent'}, '42': {'sample': 'DNA6', 'site': 'B1827', 'result': 'present'}, '43': {'sample': 'DNA7', 'site': 'B1827', 'result': 'present'}, '44': {'sample': 'DNA8', 'site': 'B1827', 'result': 'present'}, '45': {'sample': 'DNA9', 'site': 'B1827', 'result': 'present'}, '46': {'sample': 'DNA10', 'site': 'B1827', 'result': 'absent'}, '47': {'sample': 'DNA11', 'site': 'B1827', 'result': 'present'}, '48': {'sample': 'none', 'site': 'B1827', 'result': 'absent'}}\n"
     ]
    }
   ],
   "source": [
    "#One way to do a dictionary of dictionaries - there are many ways!\n",
    "DNA_dict = {} #make an empty dictionary\n",
    "with open(dna_file, \"r\") as f: #open file\n",
    "    f_list = f.readlines() #make list of lines\n",
    "    header = f_list[0].rstrip(\"\\n\").split(\",\") #get header row to use for keys, remove new lines and split on commas\n",
    "    for line in f_list[1:]: #loop through all the other rows\n",
    "        line = line.rstrip(\"\\n\").split(\",\") #remove new lines and split on commas\n",
    "        DNA_dict[line[0]] = {header[1]: line[1], #add info to dictionary\n",
    "                             header[2]: line[2], \n",
    "                             header[3]: line[3]}\n",
    "print(DNA_dict)"
   ]
  },
  {
   "cell_type": "code",
   "execution_count": 11,
   "metadata": {},
   "outputs": [
    {
     "name": "stdout",
     "output_type": "stream",
     "text": [
      "[{'well': '1', 'sample': 'DNA1', 'site': 'A1847', 'result': 'present'}, {'well': '2', 'sample': 'DNA2', 'site': 'A1847', 'result': 'present'}, {'well': '3', 'sample': 'DNA3', 'site': 'A1847', 'result': 'absent'}, {'well': '4', 'sample': 'DNA4', 'site': 'A1847', 'result': 'absent'}, {'well': '5', 'sample': 'DNA5', 'site': 'A1847', 'result': 'absent'}, {'well': '6', 'sample': 'DNA6', 'site': 'A1847', 'result': 'present'}, {'well': '7', 'sample': 'DNA7', 'site': 'A1847', 'result': 'present'}, {'well': '8', 'sample': 'DNA8', 'site': 'A1847', 'result': 'absent'}, {'well': '9', 'sample': 'DNA9', 'site': 'A1847', 'result': 'absent'}, {'well': '10', 'sample': 'DNA10', 'site': 'A1847', 'result': 'absent'}, {'well': '11', 'sample': 'DNA11', 'site': 'A1847', 'result': 'absent'}, {'well': '12', 'sample': 'none', 'site': 'A1847', 'result': 'absent'}, {'well': '13', 'sample': 'DNA1', 'site': 'A381', 'result': 'present'}, {'well': '14', 'sample': 'DNA2', 'site': 'A381', 'result': 'absent'}, {'well': '15', 'sample': 'DNA3', 'site': 'A381', 'result': 'present'}, {'well': '16', 'sample': 'DNA4', 'site': 'A381', 'result': 'present'}, {'well': '17', 'sample': 'DNA5', 'site': 'A381', 'result': 'absent'}, {'well': '18', 'sample': 'DNA6', 'site': 'A381', 'result': 'present'}, {'well': '19', 'sample': 'DNA7', 'site': 'A381', 'result': 'present'}, {'well': '20', 'sample': 'DNA8', 'site': 'A381', 'result': 'present'}, {'well': '21', 'sample': 'DNA9', 'site': 'A381', 'result': 'present'}, {'well': '22', 'sample': 'DNA10', 'site': 'A381', 'result': 'absent'}, {'well': '23', 'sample': 'DNA11', 'site': 'A381', 'result': 'absent'}, {'well': '24', 'sample': 'none', 'site': 'A381', 'result': 'absent'}, {'well': '25', 'sample': 'DNA1', 'site': 'B372', 'result': 'absent'}, {'well': '26', 'sample': 'DNA2', 'site': 'B372', 'result': 'absent'}, {'well': '27', 'sample': 'DNA3', 'site': 'B372', 'result': 'present'}, {'well': '28', 'sample': 'DNA4', 'site': 'B372', 'result': 'present'}, {'well': '29', 'sample': 'DNA5', 'site': 'B372', 'result': 'present'}, {'well': '30', 'sample': 'DNA6', 'site': 'B372', 'result': 'present'}, {'well': '31', 'sample': 'DNA7', 'site': 'B372', 'result': 'present'}, {'well': '32', 'sample': 'DNA8', 'site': 'B372', 'result': 'present'}, {'well': '33', 'sample': 'DNA9', 'site': 'B372', 'result': 'present'}, {'well': '34', 'sample': 'DNA10', 'site': 'B372', 'result': 'absent'}, {'well': '35', 'sample': 'DNA11', 'site': 'B372', 'result': 'present'}, {'well': '36', 'sample': 'none', 'site': 'B372', 'result': 'absent'}, {'well': '37', 'sample': 'DNA1', 'site': 'B1827', 'result': 'absent'}, {'well': '38', 'sample': 'DNA2', 'site': 'B1827', 'result': 'present'}, {'well': '39', 'sample': 'DNA3', 'site': 'B1827', 'result': 'present'}, {'well': '40', 'sample': 'DNA4', 'site': 'B1827', 'result': 'absent'}, {'well': '41', 'sample': 'DNA5', 'site': 'B1827', 'result': 'absent'}, {'well': '42', 'sample': 'DNA6', 'site': 'B1827', 'result': 'present'}, {'well': '43', 'sample': 'DNA7', 'site': 'B1827', 'result': 'present'}, {'well': '44', 'sample': 'DNA8', 'site': 'B1827', 'result': 'present'}, {'well': '45', 'sample': 'DNA9', 'site': 'B1827', 'result': 'present'}, {'well': '46', 'sample': 'DNA10', 'site': 'B1827', 'result': 'absent'}, {'well': '47', 'sample': 'DNA11', 'site': 'B1827', 'result': 'present'}, {'well': '48', 'sample': 'none', 'site': 'B1827', 'result': 'absent'}]\n"
     ]
    }
   ],
   "source": [
    "#One way to do a list of dictionaries - there are many ways!\n",
    "DNA_list = []\n",
    "with open(dna_file, \"r\") as f: #open file\n",
    "    f_list = f.readlines() #make list of lines\n",
    "    header = f_list[0].rstrip(\"\\n\").split(\",\") #get header row to use for keys, remove new lines and split on commas\n",
    "    for line in f_list[1:]: #loop through all the other rows\n",
    "        line = line.rstrip(\"\\n\").split(\",\") #remove new lines and split on commas\n",
    "        sample_dict = {header[0]: line[0],#add info to dictionary\n",
    "                       header[1]: line[1], \n",
    "                       header[2]: line[2], \n",
    "                       header[3]: line[3]}\n",
    "        DNA_list.append(sample_dict)\n",
    "print(DNA_list)"
   ]
  },
  {
   "cell_type": "code",
   "execution_count": 26,
   "metadata": {},
   "outputs": [
    {
     "name": "stdout",
     "output_type": "stream",
     "text": [
      "{'DNA1': {'A1847': 'present', 'A381': 'present', 'B372': 'absent', 'B1827': 'absent'}, 'DNA2': {'A1847': 'present', 'A381': 'absent', 'B372': 'absent', 'B1827': 'present'}, 'DNA3': {'A1847': 'absent', 'A381': 'present', 'B372': 'present', 'B1827': 'present'}, 'DNA4': {'A1847': 'absent', 'A381': 'present', 'B372': 'present', 'B1827': 'absent'}, 'DNA5': {'A1847': 'absent', 'A381': 'absent', 'B372': 'present', 'B1827': 'absent'}, 'DNA6': {'A1847': 'present', 'A381': 'present', 'B372': 'present', 'B1827': 'present'}, 'DNA7': {'A1847': 'present', 'A381': 'present', 'B372': 'present', 'B1827': 'present'}, 'DNA8': {'A1847': 'absent', 'A381': 'present', 'B372': 'present', 'B1827': 'present'}, 'DNA9': {'A1847': 'absent', 'A381': 'present', 'B372': 'present', 'B1827': 'present'}, 'DNA10': {'A1847': 'absent', 'A381': 'absent', 'B372': 'absent', 'B1827': 'absent'}, 'DNA11': {'A1847': 'absent', 'A381': 'absent', 'B372': 'present', 'B1827': 'present'}, 'none': {'A1847': 'absent', 'A381': 'absent', 'B372': 'absent', 'B1827': 'absent'}}\n"
     ]
    }
   ],
   "source": [
    "#Another dictionary of dictionaries\n",
    "dna_file = \"DNAresults.csv\"\n",
    "DNA_dict = {}\n",
    "with open(dna_file, \"r\") as f:\n",
    "    f_list = f.readlines() \n",
    "    for line in f_list[1:]:\n",
    "        line = line.rstrip(\"\\n\").split(\",\")\n",
    "        if line[1] in DNA_dict.keys():\n",
    "            DNA_dict[line[1]].update({line[2]: line[3]})\n",
    "        else:\n",
    "            DNA_dict[line[1]] = {line[2]: line[3]}\n",
    "print(DNA_dict)"
   ]
  },
  {
   "cell_type": "code",
   "execution_count": 1,
   "metadata": {},
   "outputs": [
    {
     "name": "stdout",
     "output_type": "stream",
     "text": [
      "[{'Well': '1', 'Sample': 'DNA1', 'Site': 'A1847', 'Result': 'present'}, {'Well': '2', 'Sample': 'DNA2', 'Site': 'A1847', 'Result': 'present'}, {'Well': '3', 'Sample': 'DNA3', 'Site': 'A1847', 'Result': 'absent'}, {'Well': '4', 'Sample': 'DNA4', 'Site': 'A1847', 'Result': 'absent'}, {'Well': '5', 'Sample': 'DNA5', 'Site': 'A1847', 'Result': 'absent'}, {'Well': '6', 'Sample': 'DNA6', 'Site': 'A1847', 'Result': 'present'}, {'Well': '7', 'Sample': 'DNA7', 'Site': 'A1847', 'Result': 'present'}, {'Well': '8', 'Sample': 'DNA8', 'Site': 'A1847', 'Result': 'absent'}, {'Well': '9', 'Sample': 'DNA9', 'Site': 'A1847', 'Result': 'absent'}, {'Well': '10', 'Sample': 'DNA10', 'Site': 'A1847', 'Result': 'absent'}, {'Well': '11', 'Sample': 'DNA11', 'Site': 'A1847', 'Result': 'absent'}, {'Well': '12', 'Sample': 'none', 'Site': 'A1847', 'Result': 'absent'}, {'Well': '13', 'Sample': 'DNA1', 'Site': 'A381', 'Result': 'present'}, {'Well': '14', 'Sample': 'DNA2', 'Site': 'A381', 'Result': 'absent'}, {'Well': '15', 'Sample': 'DNA3', 'Site': 'A381', 'Result': 'present'}, {'Well': '16', 'Sample': 'DNA4', 'Site': 'A381', 'Result': 'present'}, {'Well': '17', 'Sample': 'DNA5', 'Site': 'A381', 'Result': 'absent'}, {'Well': '18', 'Sample': 'DNA6', 'Site': 'A381', 'Result': 'present'}, {'Well': '19', 'Sample': 'DNA7', 'Site': 'A381', 'Result': 'present'}, {'Well': '20', 'Sample': 'DNA8', 'Site': 'A381', 'Result': 'present'}, {'Well': '21', 'Sample': 'DNA9', 'Site': 'A381', 'Result': 'present'}, {'Well': '22', 'Sample': 'DNA10', 'Site': 'A381', 'Result': 'absent'}, {'Well': '23', 'Sample': 'DNA11', 'Site': 'A381', 'Result': 'absent'}, {'Well': '24', 'Sample': 'none', 'Site': 'A381', 'Result': 'absent'}, {'Well': '25', 'Sample': 'DNA1', 'Site': 'B372', 'Result': 'absent'}, {'Well': '26', 'Sample': 'DNA2', 'Site': 'B372', 'Result': 'absent'}, {'Well': '27', 'Sample': 'DNA3', 'Site': 'B372', 'Result': 'present'}, {'Well': '28', 'Sample': 'DNA4', 'Site': 'B372', 'Result': 'present'}, {'Well': '29', 'Sample': 'DNA5', 'Site': 'B372', 'Result': 'present'}, {'Well': '30', 'Sample': 'DNA6', 'Site': 'B372', 'Result': 'present'}, {'Well': '31', 'Sample': 'DNA7', 'Site': 'B372', 'Result': 'present'}, {'Well': '32', 'Sample': 'DNA8', 'Site': 'B372', 'Result': 'present'}, {'Well': '33', 'Sample': 'DNA9', 'Site': 'B372', 'Result': 'present'}, {'Well': '34', 'Sample': 'DNA10', 'Site': 'B372', 'Result': 'absent'}, {'Well': '35', 'Sample': 'DNA11', 'Site': 'B372', 'Result': 'present'}, {'Well': '36', 'Sample': 'none', 'Site': 'B372', 'Result': 'absent'}, {'Well': '37', 'Sample': 'DNA1', 'Site': 'B1827', 'Result': 'absent'}, {'Well': '38', 'Sample': 'DNA2', 'Site': 'B1827', 'Result': 'present'}, {'Well': '39', 'Sample': 'DNA3', 'Site': 'B1827', 'Result': 'present'}, {'Well': '40', 'Sample': 'DNA4', 'Site': 'B1827', 'Result': 'absent'}, {'Well': '41', 'Sample': 'DNA5', 'Site': 'B1827', 'Result': 'absent'}, {'Well': '42', 'Sample': 'DNA6', 'Site': 'B1827', 'Result': 'present'}, {'Well': '43', 'Sample': 'DNA7', 'Site': 'B1827', 'Result': 'present'}, {'Well': '44', 'Sample': 'DNA8', 'Site': 'B1827', 'Result': 'present'}, {'Well': '45', 'Sample': 'DNA9', 'Site': 'B1827', 'Result': 'present'}, {'Well': '46', 'Sample': 'DNA10', 'Site': 'B1827', 'Result': 'absent'}, {'Well': '47', 'Sample': 'DNA11', 'Site': 'B1827', 'Result': 'present'}, {'Well': '48', 'Sample': 'none', 'Site': 'B1827', 'Result': 'absent'}]\n"
     ]
    }
   ],
   "source": [
    "#Another list of dictionaries\n",
    "dna_list = []\n",
    "with open('DNAresults.csv','r') as f:\n",
    "    f_list = f.readlines()\n",
    "    header = f_list[0].rstrip('\\n').split(',')\n",
    "for line in f_list[1:]:\n",
    "    dna_dict = {}\n",
    "    piece = line.split(',')\n",
    "    dna_dict['Well'] = piece[0]\n",
    "    dna_dict['Sample'] = piece[1]\n",
    "    dna_dict['Site'] = piece[2]\n",
    "    dna_dict['Result'] = piece[3].rstrip(\"\\n\")\n",
    "    dna_list.append(dna_dict)\n",
    "print(dna_list)"
   ]
  },
  {
   "cell_type": "code",
   "execution_count": null,
   "metadata": {},
   "outputs": [],
   "source": []
  },
  {
   "cell_type": "code",
   "execution_count": null,
   "metadata": {},
   "outputs": [],
   "source": []
  },
  {
   "cell_type": "code",
   "execution_count": null,
   "metadata": {},
   "outputs": [],
   "source": []
  }
 ],
 "metadata": {
  "kernelspec": {
   "display_name": "Python 3",
   "language": "python",
   "name": "python3"
  },
  "language_info": {
   "codemirror_mode": {
    "name": "ipython",
    "version": 3
   },
   "file_extension": ".py",
   "mimetype": "text/x-python",
   "name": "python",
   "nbconvert_exporter": "python",
   "pygments_lexer": "ipython3",
   "version": "3.7.3"
  }
 },
 "nbformat": 4,
 "nbformat_minor": 4
}
